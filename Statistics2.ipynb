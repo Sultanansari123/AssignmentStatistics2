{
 "cells": [
  {
   "cell_type": "code",
   "execution_count": 1,
   "id": "477c54d8-cba1-4777-aa9d-e10e134080cf",
   "metadata": {},
   "outputs": [
    {
     "data": {
      "text/plain": [
       "'Ans three measurement of the central tendenncy\\n1-mean\\n2-median\\n3-mode'"
      ]
     },
     "execution_count": 1,
     "metadata": {},
     "output_type": "execute_result"
    }
   ],
   "source": [
    "\"\"\"Ans1- three measurement of the central tendenncy\n",
    "1-mean\n",
    "2-median\n",
    "3-mode\"\"\""
   ]
  },
  {
   "cell_type": "code",
   "execution_count": 1,
   "id": "2f06122d-940f-465f-b7b2-f72b9e7c14b5",
   "metadata": {},
   "outputs": [
    {
     "data": {
      "text/plain": [
       "'Ans2-\\ndifference between mean ,median and mode\\n1 mean-The mean is the average where the sum of all the numbers is divided by the total number of numbers.\\n2 median-median is the middle value in the list of the given numbers numerically ordered  for smallest to biggest.\\n3-mode-mode is the value of the numbers which occurs most often in the list.'"
      ]
     },
     "execution_count": 1,
     "metadata": {},
     "output_type": "execute_result"
    }
   ],
   "source": [
    "\"\"\"Ans2-\n",
    "difference between mean ,median and mode\n",
    "1 mean-The mean is the average where the sum of all the numbers is divided by the total number of numbers.\n",
    "2 median-median is the middle value in the list of the given numbers numerically ordered  for smallest to biggest.\n",
    "3-mode-mode is the value of the numbers which occurs most often in the list.\"\"\""
   ]
  },
  {
   "cell_type": "code",
   "execution_count": 4,
   "id": "f2415870-6b1b-4691-a0c9-be23e56fecd3",
   "metadata": {},
   "outputs": [],
   "source": [
    "#mesure the central tendency of the given datasets.\n",
    "import numpy as np\n",
    "import pandas as pd"
   ]
  },
  {
   "cell_type": "code",
   "execution_count": 10,
   "id": "94d4880b-372f-4b2d-a49c-cb878e96ffab",
   "metadata": {},
   "outputs": [],
   "source": [
    "age=[[12,34,45,67,78,89],[90,12,45,64,67,47]]\n",
    "df=pd.DataFrame(age,columns=['A','B','C','D','F','F'])"
   ]
  },
  {
   "cell_type": "code",
   "execution_count": 11,
   "id": "f5c715f5-7d23-44a5-b520-eafb8797c64e",
   "metadata": {},
   "outputs": [
    {
     "data": {
      "text/html": [
       "<div>\n",
       "<style scoped>\n",
       "    .dataframe tbody tr th:only-of-type {\n",
       "        vertical-align: middle;\n",
       "    }\n",
       "\n",
       "    .dataframe tbody tr th {\n",
       "        vertical-align: top;\n",
       "    }\n",
       "\n",
       "    .dataframe thead th {\n",
       "        text-align: right;\n",
       "    }\n",
       "</style>\n",
       "<table border=\"1\" class=\"dataframe\">\n",
       "  <thead>\n",
       "    <tr style=\"text-align: right;\">\n",
       "      <th></th>\n",
       "      <th>A</th>\n",
       "      <th>B</th>\n",
       "      <th>C</th>\n",
       "      <th>D</th>\n",
       "      <th>F</th>\n",
       "      <th>F</th>\n",
       "    </tr>\n",
       "  </thead>\n",
       "  <tbody>\n",
       "    <tr>\n",
       "      <th>0</th>\n",
       "      <td>12</td>\n",
       "      <td>34</td>\n",
       "      <td>45</td>\n",
       "      <td>67</td>\n",
       "      <td>78</td>\n",
       "      <td>89</td>\n",
       "    </tr>\n",
       "    <tr>\n",
       "      <th>1</th>\n",
       "      <td>90</td>\n",
       "      <td>12</td>\n",
       "      <td>45</td>\n",
       "      <td>64</td>\n",
       "      <td>67</td>\n",
       "      <td>47</td>\n",
       "    </tr>\n",
       "  </tbody>\n",
       "</table>\n",
       "</div>"
      ],
      "text/plain": [
       "    A   B   C   D   F   F\n",
       "0  12  34  45  67  78  89\n",
       "1  90  12  45  64  67  47"
      ]
     },
     "execution_count": 11,
     "metadata": {},
     "output_type": "execute_result"
    }
   ],
   "source": [
    "df"
   ]
  },
  {
   "cell_type": "code",
   "execution_count": 14,
   "id": "026c509e-aa20-4a72-9f69-c4e27faa2bfa",
   "metadata": {},
   "outputs": [
    {
     "data": {
      "text/plain": [
       "51.0"
      ]
     },
     "execution_count": 14,
     "metadata": {},
     "output_type": "execute_result"
    }
   ],
   "source": [
    "np.mean(df['A'])"
   ]
  },
  {
   "cell_type": "code",
   "execution_count": 16,
   "id": "7162f8a0-7406-46b0-9b5e-fcb9057e82a7",
   "metadata": {},
   "outputs": [
    {
     "data": {
      "text/plain": [
       "54.166666666666664"
      ]
     },
     "execution_count": 16,
     "metadata": {},
     "output_type": "execute_result"
    }
   ],
   "source": [
    "np.mean(age)"
   ]
  },
  {
   "cell_type": "code",
   "execution_count": 15,
   "id": "4405bd9d-6971-4e22-9dcf-1b9557c0c375",
   "metadata": {},
   "outputs": [
    {
     "data": {
      "text/plain": [
       "55.5"
      ]
     },
     "execution_count": 15,
     "metadata": {},
     "output_type": "execute_result"
    }
   ],
   "source": [
    "np.median(age)"
   ]
  },
  {
   "cell_type": "code",
   "execution_count": 20,
   "id": "59d6283c-d3eb-4b8c-a97f-db89d40c4763",
   "metadata": {},
   "outputs": [],
   "source": [
    "from scipy import stats"
   ]
  },
  {
   "cell_type": "code",
   "execution_count": 22,
   "id": "8fbc8843-f466-41ee-93e3-9b4d6f4910ae",
   "metadata": {},
   "outputs": [
    {
     "name": "stderr",
     "output_type": "stream",
     "text": [
      "/tmp/ipykernel_70/2474845003.py:1: FutureWarning: Unlike other reduction functions (e.g. `skew`, `kurtosis`), the default behavior of `mode` typically preserves the axis it acts along. In SciPy 1.11.0, this behavior will change: the default value of `keepdims` will become False, the `axis` over which the statistic is taken will be eliminated, and the value None will no longer be accepted. Set `keepdims` to True or False to avoid this warning.\n",
      "  stats.mode(age)\n"
     ]
    },
    {
     "data": {
      "text/plain": [
       "ModeResult(mode=array([[12, 12, 45, 64, 67, 47]]), count=array([[1, 1, 2, 1, 1, 1]]))"
      ]
     },
     "execution_count": 22,
     "metadata": {},
     "output_type": "execute_result"
    }
   ],
   "source": [
    "stats.mode(age)"
   ]
  },
  {
   "cell_type": "code",
   "execution_count": 23,
   "id": "eb4d9284-9360-4d9b-80da-737b74c2bf40",
   "metadata": {},
   "outputs": [],
   "source": [
    "#Ans3-central tendency of the height of the data\n",
    "height_data=[178,177,176,177,178.2,178,175,179,180,175,178.9,176.2,177,172.5,178,176.5]\n"
   ]
  },
  {
   "cell_type": "code",
   "execution_count": 25,
   "id": "81ae6ef8-fc3b-4f1b-9aeb-52397f9f4c2d",
   "metadata": {},
   "outputs": [
    {
     "data": {
      "text/plain": [
       "177.01875"
      ]
     },
     "execution_count": 25,
     "metadata": {},
     "output_type": "execute_result"
    }
   ],
   "source": [
    "np.mean(height_data)"
   ]
  },
  {
   "cell_type": "code",
   "execution_count": 26,
   "id": "b0d5282f-ca51-4edf-b2ed-a7d36ace0ffb",
   "metadata": {},
   "outputs": [
    {
     "data": {
      "text/plain": [
       "177.0"
      ]
     },
     "execution_count": 26,
     "metadata": {},
     "output_type": "execute_result"
    }
   ],
   "source": [
    "np.median(height_data)"
   ]
  },
  {
   "cell_type": "code",
   "execution_count": 28,
   "id": "631fac5c-1c2c-40f8-b41b-711b589d8a61",
   "metadata": {},
   "outputs": [
    {
     "name": "stderr",
     "output_type": "stream",
     "text": [
      "/tmp/ipykernel_70/2661021712.py:1: FutureWarning: Unlike other reduction functions (e.g. `skew`, `kurtosis`), the default behavior of `mode` typically preserves the axis it acts along. In SciPy 1.11.0, this behavior will change: the default value of `keepdims` will become False, the `axis` over which the statistic is taken will be eliminated, and the value None will no longer be accepted. Set `keepdims` to True or False to avoid this warning.\n",
      "  stats.mode(height_data)\n"
     ]
    },
    {
     "data": {
      "text/plain": [
       "ModeResult(mode=array([177.]), count=array([3]))"
      ]
     },
     "execution_count": 28,
     "metadata": {},
     "output_type": "execute_result"
    }
   ],
   "source": [
    "stats.mode(height_data)"
   ]
  },
  {
   "cell_type": "code",
   "execution_count": 29,
   "id": "240befa9-9d77-4743-b833-bfac1d8ea60c",
   "metadata": {},
   "outputs": [],
   "source": [
    "#Ans4-Standard deviation for the given data\n",
    "height_data=[178,177,176,177,178.2,178,175,179,180,175,178.9,176.2,177,172.5,178,176.5]"
   ]
  },
  {
   "cell_type": "code",
   "execution_count": 30,
   "id": "060746fd-2ef7-4b97-b84d-8bfaefa14c6e",
   "metadata": {},
   "outputs": [
    {
     "data": {
      "text/plain": [
       "1.7885814036548633"
      ]
     },
     "execution_count": 30,
     "metadata": {},
     "output_type": "execute_result"
    }
   ],
   "source": [
    "np.std(height_data)"
   ]
  },
  {
   "cell_type": "code",
   "execution_count": 34,
   "id": "cf07267b-c13b-4291-8f11-991d20555dc9",
   "metadata": {},
   "outputs": [
    {
     "data": {
      "text/plain": [
       "'Ans6-dispersion in the statistics disperson is the state of the getting spread data or extend the numerical data.\\nmeasure of the dispersion\\n1-Range-it is described by the maximum value and minimum value given in the datasets.for example 1,3,5,6,7 range 7-1=6\\n2 Variance-deduct the mean from each data in the sets\\n3-Standard deviation-the square root of variance is known as standard deviation.\\nnumber=1,3,5,5,6,7,9,10\\nn=8\\nvariance=7.69\\nstandard deviation=2.77'"
      ]
     },
     "execution_count": 34,
     "metadata": {},
     "output_type": "execute_result"
    }
   ],
   "source": [
    "\"\"\"Ans5-dispersion in the statistics disperson is the state of the getting spread data or extend the numerical data.\n",
    "measure of the dispersion\n",
    "1-Range-it is described by the maximum value and minimum value given in the datasets.for example 1,3,5,6,7 range 7-1=6\n",
    "2 Variance-deduct the mean from each data in the sets\n",
    "3-Standard deviation-the square root of variance is known as standard deviation.\n",
    "number=1,3,5,5,6,7,9,10\n",
    "n=8\n",
    "variance=7.69\n",
    "standard deviation=2.77\"\"\""
   ]
  },
  {
   "cell_type": "code",
   "execution_count": 32,
   "id": "9aa66b9b-8254-4a38-a048-1d35a0fccc39",
   "metadata": {},
   "outputs": [
    {
     "data": {
      "text/plain": [
       "7.6875"
      ]
     },
     "execution_count": 32,
     "metadata": {},
     "output_type": "execute_result"
    }
   ],
   "source": [
    "number=[1,3,5,5,6,7,9,10]\n",
    "np.var(number)"
   ]
  },
  {
   "cell_type": "code",
   "execution_count": 33,
   "id": "2305222f-0f54-4aa2-8fcf-19b576a185a4",
   "metadata": {},
   "outputs": [
    {
     "data": {
      "text/plain": [
       "2.7726341266023544"
      ]
     },
     "execution_count": 33,
     "metadata": {},
     "output_type": "execute_result"
    }
   ],
   "source": [
    "np.std(number)"
   ]
  },
  {
   "cell_type": "code",
   "execution_count": 35,
   "id": "32bd4053-8a96-4c2f-8878-20fd730d409e",
   "metadata": {},
   "outputs": [],
   "source": [
    "#Ans6-venn diagram is a diagram that representing mathemetical or logical sets pictorially  as a circle within an enclosing rectangle."
   ]
  },
  {
   "cell_type": "code",
   "execution_count": 37,
   "id": "e76aab95-4546-4315-a0d6-fbf38e229573",
   "metadata": {},
   "outputs": [
    {
     "data": {
      "text/plain": [
       "'Ans7- A=(2,3,4,5,6.7) ,B=(0,2,6,8,10) \\n1-A union B=(0,2,3,4,5,6,7,8,10)\\n2-A intersection B =(2,6)'"
      ]
     },
     "execution_count": 37,
     "metadata": {},
     "output_type": "execute_result"
    }
   ],
   "source": [
    "\"\"\"Ans7- A=(2,3,4,5,6.7) ,B=(0,2,6,8,10) \n",
    "1-A union B=(0,2,3,4,5,6,7,8,10)\n",
    "2-A intersection B =(2,6)\"\"\""
   ]
  },
  {
   "cell_type": "code",
   "execution_count": 1,
   "id": "6c6e84ae-9cef-4f9d-95c0-4e0657a96a4a",
   "metadata": {},
   "outputs": [],
   "source": [
    "#Ans8-skewness is the measurement of the distortion of symmetrical distribution or asymetry in a datasets."
   ]
  },
  {
   "cell_type": "code",
   "execution_count": 2,
   "id": "eecf809b-c84d-4877-881f-237521688416",
   "metadata": {},
   "outputs": [],
   "source": [
    "#Ans9-if the data is right skewed  mean is greater than median \n",
    "#mean>median>mode"
   ]
  },
  {
   "cell_type": "code",
   "execution_count": 4,
   "id": "1562a394-11b3-4460-9e83-37d3cdf718a0",
   "metadata": {},
   "outputs": [
    {
     "data": {
      "text/plain": [
       "'Ans10-Covariance -covariance shows you how the two variables differ.\\ncorrelation-How the two variable are related.'"
      ]
     },
     "execution_count": 4,
     "metadata": {},
     "output_type": "execute_result"
    }
   ],
   "source": [
    "\"\"\"Ans10-Covariance -covariance shows you how the two variables differ.\n",
    "correlation-How the two variable are related.\"\"\"\n",
    "\n"
   ]
  },
  {
   "cell_type": "code",
   "execution_count": 5,
   "id": "09b95747-485c-4ff1-bb2a-f0641d61ef01",
   "metadata": {},
   "outputs": [
    {
     "data": {
      "text/plain": [
       "'Ans10- farmula of calculating the sample mean\\nx bar= summation of(xi)/n\\nxi=sample data point\\nn=number of the sample data'"
      ]
     },
     "execution_count": 5,
     "metadata": {},
     "output_type": "execute_result"
    }
   ],
   "source": [
    "\"\"\"Ans11- farmula of calculating the sample mean\n",
    "x bar= summation of(xi)/n\n",
    "xi=sample data point\n",
    "n=number of the sample data\"\"\"\n"
   ]
  },
  {
   "cell_type": "code",
   "execution_count": 6,
   "id": "148bff3a-9848-4467-a09f-9bdd557c7824",
   "metadata": {},
   "outputs": [],
   "source": [
    "data=[12,23,24,24,56,67,78,90]"
   ]
  },
  {
   "cell_type": "code",
   "execution_count": 7,
   "id": "a1b87421-1754-4532-9946-15c2687a20aa",
   "metadata": {},
   "outputs": [],
   "source": [
    "import numpy as np"
   ]
  },
  {
   "cell_type": "code",
   "execution_count": 8,
   "id": "c4685bdb-beea-4452-94bb-9465a96310a5",
   "metadata": {},
   "outputs": [
    {
     "data": {
      "text/plain": [
       "46.75"
      ]
     },
     "execution_count": 8,
     "metadata": {},
     "output_type": "execute_result"
    }
   ],
   "source": [
    "np.mean(data)"
   ]
  },
  {
   "cell_type": "code",
   "execution_count": 9,
   "id": "78eacdf8-25a3-4af7-a977-1f649afb9f89",
   "metadata": {},
   "outputs": [
    {
     "data": {
      "text/plain": [
       "'Ans12-\\nAny normal distribution has a graph that is perfectly symmetric about a vertical line throught its peak.there for all measure of central tendency\\nmost comman the mean median and mode'"
      ]
     },
     "execution_count": 9,
     "metadata": {},
     "output_type": "execute_result"
    }
   ],
   "source": [
    "\"\"\"Ans12-\n",
    "Any normal distribution has a graph that is perfectly symmetric about a vertical line throught its peak.there for all measure of central tendency\n",
    "most comman the mean median and mode\"\"\""
   ]
  },
  {
   "cell_type": "code",
   "execution_count": 10,
   "id": "bf42e2bc-79f8-40f2-9149-1652503f2297",
   "metadata": {},
   "outputs": [
    {
     "data": {
      "text/plain": [
       "'Ans13--Covariance -covariance shows you how the two variables differ.\\ncorrelation-How the two variable are related.'"
      ]
     },
     "execution_count": 10,
     "metadata": {},
     "output_type": "execute_result"
    }
   ],
   "source": [
    "\"\"\"Ans13--Covariance -covariance shows you how the two variables differ.\n",
    "correlation-How the two variable are related.\"\"\"\n"
   ]
  },
  {
   "cell_type": "code",
   "execution_count": 12,
   "id": "e0570bee-2373-4e5c-975e-e3967fcb81c0",
   "metadata": {},
   "outputs": [
    {
     "data": {
      "text/plain": [
       "'Ans14-outliers affects the mean values of the data but have little effect on the median.'"
      ]
     },
     "execution_count": 12,
     "metadata": {},
     "output_type": "execute_result"
    }
   ],
   "source": [
    "\"\"\"Ans14-outliers affects the mean values of the data but have little effect on the median.\"\"\"\n",
    "\n"
   ]
  },
  {
   "cell_type": "code",
   "execution_count": 13,
   "id": "33a65dec-0a3a-4703-bda3-59aadd9691df",
   "metadata": {},
   "outputs": [],
   "source": [
    "data=[1,2,3,4,5]"
   ]
  },
  {
   "cell_type": "code",
   "execution_count": 14,
   "id": "e847fecc-ff29-49fa-b41e-b406d1fefa1e",
   "metadata": {},
   "outputs": [
    {
     "data": {
      "text/plain": [
       "3.0"
      ]
     },
     "execution_count": 14,
     "metadata": {},
     "output_type": "execute_result"
    }
   ],
   "source": [
    "np.mean(data)"
   ]
  },
  {
   "cell_type": "code",
   "execution_count": 15,
   "id": "e661e317-fb26-4f5a-861e-dfdfa133ead9",
   "metadata": {},
   "outputs": [
    {
     "data": {
      "text/plain": [
       "3.0"
      ]
     },
     "execution_count": 15,
     "metadata": {},
     "output_type": "execute_result"
    }
   ],
   "source": [
    "np.median(data)"
   ]
  },
  {
   "cell_type": "code",
   "execution_count": 17,
   "id": "9efcbc9b-acb4-40ad-9c1a-6fe701a1192e",
   "metadata": {},
   "outputs": [],
   "source": [
    "data=[1,2,3,4,5,50]"
   ]
  },
  {
   "cell_type": "code",
   "execution_count": 18,
   "id": "46454480-6fd0-4ee1-a6a0-a576fab99635",
   "metadata": {},
   "outputs": [
    {
     "data": {
      "text/plain": [
       "10.833333333333334"
      ]
     },
     "execution_count": 18,
     "metadata": {},
     "output_type": "execute_result"
    }
   ],
   "source": [
    "np.mean(data)#previous mean 3 large efffect"
   ]
  },
  {
   "cell_type": "code",
   "execution_count": 19,
   "id": "401cb0e5-f589-4973-8bec-64226f1bb7ac",
   "metadata": {},
   "outputs": [
    {
     "data": {
      "text/plain": [
       "3.5"
      ]
     },
     "execution_count": 19,
     "metadata": {},
     "output_type": "execute_result"
    }
   ],
   "source": [
    "np.median(data)# previous median 3.0 little efffect"
   ]
  },
  {
   "cell_type": "code",
   "execution_count": null,
   "id": "33d8316e-01b6-4e92-b457-4d5c41d98862",
   "metadata": {},
   "outputs": [],
   "source": []
  }
 ],
 "metadata": {
  "kernelspec": {
   "display_name": "Python 3 (ipykernel)",
   "language": "python",
   "name": "python3"
  },
  "language_info": {
   "codemirror_mode": {
    "name": "ipython",
    "version": 3
   },
   "file_extension": ".py",
   "mimetype": "text/x-python",
   "name": "python",
   "nbconvert_exporter": "python",
   "pygments_lexer": "ipython3",
   "version": "3.10.8"
  }
 },
 "nbformat": 4,
 "nbformat_minor": 5
}
